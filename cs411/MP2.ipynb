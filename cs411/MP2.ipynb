{
 "cells": [
  {
   "cell_type": "markdown",
   "metadata": {},
   "source": [
    "<h1>Instructions</h1>\n",
    "<ol>\n",
    "<li>Click the button \"Not Trusted\" on the menu bar of this notebook (at the top-right), and change the value to \"Trusted\". \n",
    "<li>Click Cell -> Run All. If you skip this step you might get the error \"Cell magic `%%sql` not found.\"\n",
    "<li>In the cell below each question, write a SQL query for the question.  \n",
    "<li>After you enter a query, press Shift + Enter to run the cell. \n",
    "<li>After execution, the system will output the query result and say \"CORRECT\" if the query works for the sample dataset. Otherwise, it will say \"INCORRECT\" and also display the expected result for your comparison.\n",
    "<li>Your submission will be tested over a dataset different from and larger than the sample. You will receive full credit for a question if the query returns correct results on the test dataset. \n",
    "</ol>\n",
    "\n",
    "<h2>Notes</h2>\n",
    "<ul>\n",
    "<li>The DBMS running on the server is PostgreSQL 8.4.20. You may write any query to solve the questions as long as it conforms to its syntax. \n",
    "<li>You are encouraged to experiment with different queries by creating new code cells with the %%sql tag. However, when you submit your notebook, please make sure that there is exactly one cell with \"%%sql n\", for $1 \\le n \\le 12$, so that the autograder works properly. \n",
    "<li>Do not modify the line with %%sql; without it, the cell contents will be treated as Python code. \n",
    "</ul>"
   ]
  },
  {
   "cell_type": "markdown",
   "metadata": {},
   "source": [
    "<h2>Example</h2>\n",
    "\n",
    "As an example, you can copy and paste the following SQL code into the input box for one of the questions, and then press Shift + Enter. "
   ]
  },
  {
   "cell_type": "raw",
   "metadata": {},
   "source": [
    "SELECT Bars.name\n",
    "FROM Bars\n",
    "WHERE addr != ''"
   ]
  },
  {
   "cell_type": "markdown",
   "metadata": {},
   "source": [
    "If the notebook is working properly, then you should see a table of all the bars in the database. If not, please contact the TA's or make a post on Piazza and we will do our best to resolve the issue. "
   ]
  },
  {
   "cell_type": "markdown",
   "metadata": {},
   "source": [
    "<h1>Database Schema</h1>\n",
    "\n",
    "Drinkers(<u>name</u>, <u>addr</u>, hobby, frequent)\n",
    "\n",
    "Bars(<u>name</u>, addr, owner)\n",
    "\n",
    "Beers(<u>name</u>, brewer, alcohol)\n",
    "\n",
    "Drinks(<u>drinkerName</u>, <u>drinkerAddr</u>, <u>beerName</u>, rating)\n",
    "\n",
    "Sells(<u>barName</u>, <u>beerName</u>, price, discount)\n",
    "\n",
    "Favorites(<u>drinkerName</u>, <u>drinkerAddr</u>, <u>barName</u>, beerName, season)"
   ]
  },
  {
   "cell_type": "code",
   "execution_count": 68,
   "metadata": {
    "scrolled": false
   },
   "outputs": [
    {
     "data": {
      "text/html": [
       "\n",
       "<script>\n",
       "  function code_toggle() {\n",
       "    if (code_shown){\n",
       "      $('div.input:eq(0)').hide();\n",
       "    } else {\n",
       "      $('div.input:eq(0)').show();\n",
       "    }\n",
       "    code_shown = !code_shown;\n",
       "  }\n",
       "  \n",
       "  code_shown=true;\n",
       "  code_toggle();\n",
       "</script>\n"
      ]
     },
     "metadata": {},
     "output_type": "display_data"
    }
   ],
   "source": [
    "from IPython.core.magic import  (\n",
    "    Magics, magics_class, cell_magic, line_magic\n",
    ")\n",
    "from IPython.display import clear_output, display, Markdown\n",
    "\n",
    "import IPython.core.display as dis\n",
    "import requests, json\n",
    "import urllib.parse\n",
    "\n",
    "server_url = \"http://forward.cs.illinois.edu:8443\"\n",
    "\n",
    "def execQueryEval(query, query_id):\n",
    "    cmd = server_url + \"/test?query~\"+urllib.parse.quote(query)+\"&nb~\"+str(query_id)\n",
    "    cmd.encode(\"utf-8\")\n",
    "    r = requests.get(cmd)\n",
    "    return r.text\n",
    "\n",
    "def execQueryResult(query):\n",
    "    cmd =  server_url + \"/result?query~\"+urllib.parse.quote(query)\n",
    "    cmd.encode(\"utf-8\")\n",
    "    r = requests.get(cmd)\n",
    "    return r.text\n",
    "\n",
    "def displayAsMarkdown(text):\n",
    "    display(Markdown(text))\n",
    "\n",
    "@magics_class\n",
    "class SQL(Magics):\n",
    "\n",
    "    @cell_magic\n",
    "    def sql(self, params, cell):\n",
    "        clear_output()\n",
    "        \n",
    "        # remove trailing semicolon\n",
    "        if cell.endswith(';'):\n",
    "            cell = cell.rstrip(';')\n",
    "            \n",
    "        # get the question number\n",
    "        n = -1\n",
    "        if len(params.strip()) > 0:\n",
    "            try:\n",
    "                n = int(params.strip())\n",
    "            except Exception:\n",
    "                pass\n",
    "        \n",
    "        # evaluate the query\n",
    "        if len(cell.strip()) > 1:\n",
    "            print (\"Query output: \")\n",
    "            displayAsMarkdown(execQueryResult(cell))\n",
    "            if n > -1:\n",
    "                print (\"Result: \")\n",
    "                displayAsMarkdown(execQueryEval(cell, n))\n",
    "\n",
    "## use ipython load_ext mechanism here if distributed\n",
    "get_ipython().register_magics(SQL)\n",
    "\n",
    "# hide this code cell\n",
    "html = \"\"\"\n",
    "<script>\n",
    "  function code_toggle() {\n",
    "    if (code_shown){\n",
    "      $('div.input:eq(0)').hide();\n",
    "    } else {\n",
    "      $('div.input:eq(0)').show();\n",
    "    }\n",
    "    code_shown = !code_shown;\n",
    "  }\n",
    "  \n",
    "  code_shown=true;\n",
    "  code_toggle();\n",
    "</script>\n",
    "\"\"\"\n",
    "dis.display_html(html, raw=True)"
   ]
  },
  {
   "cell_type": "markdown",
   "metadata": {},
   "source": [
    "<h2>Question 1:</h2><br>\n",
    "In California it is illegal to sell beverages with >60% alcohol content. Find the beers in the database that are illegal to sell in California. <br>\n",
    "\n",
    "<b>Note</b> - alcohol concentration is represented as a floating point number between 0 and 1."
   ]
  },
  {
   "cell_type": "code",
   "execution_count": 69,
   "metadata": {
    "scrolled": false
   },
   "outputs": [
    {
     "name": "stdout",
     "output_type": "stream",
     "text": [
      "Query output: \n"
     ]
    },
    {
     "data": {
      "text/markdown": [
       "|name varchar|\n",
       "|---|\n",
       "|Armageddon|\n",
       "|Snake Venom|\n",
       "|Lucid Absinthe|\n"
      ],
      "text/plain": [
       "<IPython.core.display.Markdown object>"
      ]
     },
     "metadata": {},
     "output_type": "display_data"
    },
    {
     "name": "stdout",
     "output_type": "stream",
     "text": [
      "Result: \n"
     ]
    },
    {
     "data": {
      "text/markdown": [
       "CORRECT\n",
       "\n",
       "Expected result: \n",
       "\n",
       "|name varchar|\n",
       "|---|\n",
       "|Armageddon|\n",
       "|Snake Venom|\n",
       "|Lucid Absinthe|\n"
      ],
      "text/plain": [
       "<IPython.core.display.Markdown object>"
      ]
     },
     "metadata": {},
     "output_type": "display_data"
    }
   ],
   "source": [
    "%%sql 1\n",
    "\n",
    "/* This is basically a simple Select query which one restraint from a single table */\n",
    "SELECT Beers.name\n",
    "FROM Beers\n",
    "WHERE alcohol > 0.60"
   ]
  },
  {
   "cell_type": "markdown",
   "metadata": {},
   "source": [
    "<h2>Question 2:</h2><br>\n",
    "Find the name and location of bars that sell beers made by the 'Boston Beer Co.'."
   ]
  },
  {
   "cell_type": "code",
   "execution_count": 70,
   "metadata": {},
   "outputs": [
    {
     "name": "stdout",
     "output_type": "stream",
     "text": [
      "Query output: \n"
     ]
    },
    {
     "data": {
      "text/markdown": [
       "|name varchar|addr varchar|\n",
       "|---|---|\n",
       "|Blind Pig Co.|120 Walnut St|\n",
       "|Brothers Bar & Grill|613 Green St|\n",
       "|Firehaus|708 6th St|\n",
       "|Joe's Brewery|706 5th St|\n",
       "|Legends|522 Green St|\n",
       "|Murphy's Pub|604 Green St|\n",
       "|Radio Maria|119 Walnut St|\n",
       "|The Red Lion|211 Green St|\n",
       "|Sipyard|204 Main St|\n"
      ],
      "text/plain": [
       "<IPython.core.display.Markdown object>"
      ]
     },
     "metadata": {},
     "output_type": "display_data"
    },
    {
     "name": "stdout",
     "output_type": "stream",
     "text": [
      "Result: \n"
     ]
    },
    {
     "data": {
      "text/markdown": [
       "CORRECT\n",
       "\n",
       "Expected result: \n",
       "\n",
       "|name varchar|addr varchar|\n",
       "|---|---|\n",
       "|Joe's Brewery|706 5th St|\n",
       "|Blind Pig Co.|120 Walnut St|\n",
       "|Firehaus|708 6th St|\n",
       "|Sipyard|204 Main St|\n",
       "|Murphy's Pub|604 Green St|\n",
       "|Legends|522 Green St|\n",
       "|Brothers Bar & Grill|613 Green St|\n",
       "|Radio Maria|119 Walnut St|\n",
       "|The Red Lion|211 Green St|\n"
      ],
      "text/plain": [
       "<IPython.core.display.Markdown object>"
      ]
     },
     "metadata": {},
     "output_type": "display_data"
    }
   ],
   "source": [
    "%%sql 2\n",
    "\n",
    "/*This is another simple query with 3 restraints and 3 tables*/\n",
    "SELECT Bars.name, Bars.addr\n",
    "FROM Sells, Beers, Bars\n",
    "WHERE beerName = Beers.name and brewer = 'Boston Beer Co.' and Sells.barName = Bars.name\n",
    "\n"
   ]
  },
  {
   "cell_type": "markdown",
   "metadata": {},
   "source": [
    "<h2>Question 3:</h2><br>\n",
    "Find all of the different beers that are sold in bars located on 'Green St'. <br>\n",
    "\n",
    "<b>Note</b> - you can assume that address is always in the format '[number] [street]' <br>\n"
   ]
  },
  {
   "cell_type": "code",
   "execution_count": 71,
   "metadata": {},
   "outputs": [
    {
     "name": "stdout",
     "output_type": "stream",
     "text": [
      "Query output: \n"
     ]
    },
    {
     "data": {
      "text/markdown": [
       "|beername varchar|\n",
       "|---|\n",
       "|Bud Light|\n",
       "|Budweiser|\n",
       "|Blue Moon|\n",
       "|Blue Ribbon|\n",
       "|Sam Adams|\n",
       "|Michelob|\n",
       "|Blue Moon|\n",
       "|Budweiser|\n",
       "|Guinness Draught|\n",
       "|Sam Adams|\n",
       "|Armageddon|\n",
       "|Miller Lite|\n",
       "|Sam Adams|\n",
       "|Coors Light|\n",
       "|Guinness Draught|\n",
       "|Heineken|\n",
       "|Blue Moon|\n",
       "|Sam Adams|\n",
       "|Heineken|\n",
       "|Blue Moon|\n",
       "|Miller Lite|\n",
       "|Coors Light|\n",
       "|Guinness Draught|\n"
      ],
      "text/plain": [
       "<IPython.core.display.Markdown object>"
      ]
     },
     "metadata": {},
     "output_type": "display_data"
    },
    {
     "name": "stdout",
     "output_type": "stream",
     "text": [
      "Result: \n"
     ]
    },
    {
     "data": {
      "text/markdown": [
       "CORRECT\n",
       "\n",
       "Expected result: \n",
       "\n",
       "|beername varchar|\n",
       "|---|\n",
       "|Miller Lite|\n",
       "|Sam Adams|\n",
       "|Blue Moon|\n",
       "|Guinness Draught|\n",
       "|Coors Light|\n",
       "|Michelob|\n",
       "|Armageddon|\n",
       "|Heineken|\n",
       "|Bud Light|\n",
       "|Blue Ribbon|\n",
       "|Budweiser|\n"
      ],
      "text/plain": [
       "<IPython.core.display.Markdown object>"
      ]
     },
     "metadata": {},
     "output_type": "display_data"
    }
   ],
   "source": [
    "%%sql 3\n",
    "/*Another rather simple SELECT query but used the LIKE keyword and gave it a regular expression to deal with*/\n",
    "SELECT Sells.beerName\n",
    "FROM Sells, Bars\n",
    "WHERE Sells.barName = Bars.name and Bars.addr LIKE '%Green St%'\n",
    "/* write your query here */"
   ]
  },
  {
   "cell_type": "markdown",
   "metadata": {},
   "source": [
    "<h2>Question 4:</h2><br>\n",
    "Find pairs of drinkers (name1, addr1, name2, addr2) who share a favorite drink and who frequent the same bar.<br>\n",
    "\n",
    "<b>Note</b> - the context of each person’s favorite drink (barName and season) do not need to be the same.<br>\n",
    "\n",
    "<b>Note</b> - it is expected that name1 || addr1 > name2 || addr2, so that the same information does not appear twice."
   ]
  },
  {
   "cell_type": "code",
   "execution_count": 72,
   "metadata": {
    "scrolled": true
   },
   "outputs": [
    {
     "name": "stdout",
     "output_type": "stream",
     "text": [
      "Query output: \n"
     ]
    },
    {
     "data": {
      "text/markdown": [
       "|name varchar|addr varchar|name varchar|addr varchar|\n",
       "|---|---|---|---|\n",
       "|Frank|600 Fig St|Bob|200 Broccoli Blvd|\n",
       "|Frank|600 Fig St|Bob|200 Broccoli Blvd|\n",
       "|Ian|900 Ivy Ave|David|400 Durian Dr|\n",
       "|Ian|900 Ivy Ave|David|400 Durian Dr|\n",
       "|Ian|900 Ivy Ave|David|400 Durian Dr|\n",
       "|Ian|900 Ivy Ave|David|400 Durian Dr|\n",
       "|Ian|900 Ivy Ave|David|400 Durian Dr|\n"
      ],
      "text/plain": [
       "<IPython.core.display.Markdown object>"
      ]
     },
     "metadata": {},
     "output_type": "display_data"
    },
    {
     "name": "stdout",
     "output_type": "stream",
     "text": [
      "Result: \n"
     ]
    },
    {
     "data": {
      "text/markdown": [
       "CORRECT\n",
       "\n",
       "Expected result: \n",
       "\n",
       "|name varchar|addr varchar|name varchar|addr varchar|\n",
       "|---|---|---|---|\n",
       "|Frank|600 Fig St|Bob|200 Broccoli Blvd|\n",
       "|Ian|900 Ivy Ave|David|400 Durian Dr|\n"
      ],
      "text/plain": [
       "<IPython.core.display.Markdown object>"
      ]
     },
     "metadata": {},
     "output_type": "display_data"
    }
   ],
   "source": [
    "%%sql 4\n",
    "/*This is another query where in order to get the pair we need to join it \n",
    "with two tables of which they are going to be joined with themselves*/\n",
    "SELECT d1.name, d1.addr, d2.name, d2.addr\n",
    "FROM Drinkers d1, Drinkers d2, Favorites f1, Favorites f2\n",
    "WHERE d1.frequent = d2.frequent \n",
    "    and d1.name != d2.name \n",
    "    and d1.name > d2.name \n",
    "    and f1.drinkerName = d1.name \n",
    "    and f1.drinkerName != f2.drinkername \n",
    "    and f1.beerName = f2.beerName\n",
    "/* write your query here */"
   ]
  },
  {
   "cell_type": "markdown",
   "metadata": {},
   "source": [
    "<h2>Question 5:</h2><br>\n",
    "Find the undiscounted price at which each bar sells the 'Sam Adams' beer\n",
    "\n",
    "<b>Note</b> - the Sells.price attribute describes the price <b>after</b> all discounts are applied.<br>\n",
    "\n",
    "<b>Note</b> - the discount attribute is a number between 0 and 1, such that discountedPrice = undiscountedPrice * discount"
   ]
  },
  {
   "cell_type": "code",
   "execution_count": 73,
   "metadata": {
    "scrolled": false
   },
   "outputs": [
    {
     "name": "stdout",
     "output_type": "stream",
     "text": [
      "Query output: \n"
     ]
    },
    {
     "data": {
      "text/markdown": [
       "|barname varchar|?column? numeric|\n",
       "|---|---|\n",
       "|Blind Pig Co.|7.5000000000000000|\n",
       "|Brothers Bar & Grill|7.5000000000000000|\n",
       "|Firehaus|7.5000000000000000|\n",
       "|Joe's Brewery|10.0000000000000000|\n",
       "|Legends|13.0000000000000000|\n",
       "|Murphy's Pub|7.5000000000000000|\n",
       "|Radio Maria|7.0000000000000000|\n",
       "|The Red Lion|7.5000000000000000|\n",
       "|Sipyard|8.5000000000000000|\n"
      ],
      "text/plain": [
       "<IPython.core.display.Markdown object>"
      ]
     },
     "metadata": {},
     "output_type": "display_data"
    },
    {
     "name": "stdout",
     "output_type": "stream",
     "text": [
      "Result: \n"
     ]
    },
    {
     "data": {
      "text/markdown": [
       "CORRECT\n",
       "\n",
       "Expected result: \n",
       "\n",
       "|barname varchar|undiscountedprice numeric|\n",
       "|---|---|\n",
       "|Blind Pig Co.|7.5000000000000000|\n",
       "|Brothers Bar & Grill|7.5000000000000000|\n",
       "|Firehaus|7.5000000000000000|\n",
       "|Joe's Brewery|10.0000000000000000|\n",
       "|Legends|13.0000000000000000|\n",
       "|Murphy's Pub|7.5000000000000000|\n",
       "|Radio Maria|7.0000000000000000|\n",
       "|The Red Lion|7.5000000000000000|\n",
       "|Sipyard|8.5000000000000000|\n"
      ],
      "text/plain": [
       "<IPython.core.display.Markdown object>"
      ]
     },
     "metadata": {},
     "output_type": "display_data"
    }
   ],
   "source": [
    "%%sql 5\n",
    "/*This is just does an arithmetic on the given info*/\n",
    "\n",
    "SELECT barname, price / discount\n",
    "FROM Sells\n",
    "WHERE beername = 'Sam Adams'\n",
    "\n",
    "/* write your query here */"
   ]
  },
  {
   "cell_type": "markdown",
   "metadata": {},
   "source": [
    "<h2>Question 6:</h2><br>\n",
    "Find the bars that sell a unique beer (a beer that no other bars have)"
   ]
  },
  {
   "cell_type": "code",
   "execution_count": 74,
   "metadata": {
    "scrolled": false
   },
   "outputs": [
    {
     "name": "stdout",
     "output_type": "stream",
     "text": [
      "Query output: \n"
     ]
    },
    {
     "data": {
      "text/markdown": [
       "|barname varchar|\n",
       "|---|\n",
       "|Brothers Bar & Grill|\n",
       "|Cowboy Monkey|\n",
       "|Cowboy Monkey|\n",
       "|Firehaus|\n",
       "|Legends|\n",
       "|Sipyard|\n",
       "|Sipyard|\n"
      ],
      "text/plain": [
       "<IPython.core.display.Markdown object>"
      ]
     },
     "metadata": {},
     "output_type": "display_data"
    },
    {
     "name": "stdout",
     "output_type": "stream",
     "text": [
      "Result: \n"
     ]
    },
    {
     "data": {
      "text/markdown": [
       "CORRECT\n",
       "\n",
       "Expected result: \n",
       "\n",
       "|barname varchar|\n",
       "|---|\n",
       "|Legends|\n",
       "|Cowboy Monkey|\n",
       "|Sipyard|\n",
       "|Brothers Bar & Grill|\n",
       "|Firehaus|\n"
      ],
      "text/plain": [
       "<IPython.core.display.Markdown object>"
      ]
     },
     "metadata": {},
     "output_type": "display_data"
    }
   ],
   "source": [
    "%%sql 6\n",
    "/*This has a nested query to get the name of the beer and then organize it by the bar name*/\n",
    "\n",
    "SELECT barName\n",
    "FROM Sells \n",
    "WHERE beerName IN \n",
    "    (SELECT beerName \n",
    "     FROM Sells \n",
    "     GROUP BY beerName \n",
    "     HAVING COUNT(*) = 1)\n",
    "/* write your query here */"
   ]
  },
  {
   "cell_type": "markdown",
   "metadata": {},
   "source": [
    "<h2>Question 7:</h2><br>\n",
    "Find the 5 most popular beers (according to the total number of people who drink the beer across all bars) that are sold at 'Murphy''s Pub'."
   ]
  },
  {
   "cell_type": "code",
   "execution_count": 75,
   "metadata": {
    "scrolled": false
   },
   "outputs": [
    {
     "name": "stdout",
     "output_type": "stream",
     "text": [
      "Query output: \n"
     ]
    },
    {
     "data": {
      "text/markdown": [
       "|beername varchar|\n",
       "|---|\n",
       "|Guinness Draught|\n",
       "|Sam Adams|\n",
       "|Heineken|\n",
       "|Coors Light|\n",
       "|Blue Moon|\n"
      ],
      "text/plain": [
       "<IPython.core.display.Markdown object>"
      ]
     },
     "metadata": {},
     "output_type": "display_data"
    },
    {
     "name": "stdout",
     "output_type": "stream",
     "text": [
      "Result: \n"
     ]
    },
    {
     "data": {
      "text/markdown": [
       "CORRECT\n",
       "\n",
       "Expected result: \n",
       "\n",
       "|beername varchar|\n",
       "|---|\n",
       "|Guinness Draught|\n",
       "|Sam Adams|\n",
       "|Blue Moon|\n",
       "|Coors Light|\n",
       "|Heineken|\n"
      ],
      "text/plain": [
       "<IPython.core.display.Markdown object>"
      ]
     },
     "metadata": {},
     "output_type": "display_data"
    }
   ],
   "source": [
    "%%sql 7\n",
    "/**/\n",
    "SELECT beerName\n",
    "FROM Sells\n",
    "WHERE barName = 'Murphy\\'s Pub'\n",
    "ORDER BY price DESC LIMIT 5\n",
    "/* write your query here */"
   ]
  },
  {
   "cell_type": "markdown",
   "metadata": {},
   "source": [
    "<h2>Question 8:</h2><br>\n",
    "Find the bars that serve the Sam Adams beer cheaper than the average market price.\n",
    "\n",
    "<b>Note</b> - the average market price is defined as the average price of the beer across all bars that sell the beer. "
   ]
  },
  {
   "cell_type": "code",
   "execution_count": 76,
   "metadata": {
    "scrolled": false
   },
   "outputs": [
    {
     "name": "stdout",
     "output_type": "stream",
     "text": [
      "Query output: \n"
     ]
    },
    {
     "data": {
      "text/markdown": [
       "|barname varchar|\n",
       "|---|\n",
       "|Joe's Brewery|\n",
       "|Legends|\n",
       "|Radio Maria|\n"
      ],
      "text/plain": [
       "<IPython.core.display.Markdown object>"
      ]
     },
     "metadata": {},
     "output_type": "display_data"
    },
    {
     "name": "stdout",
     "output_type": "stream",
     "text": [
      "Result: \n"
     ]
    },
    {
     "data": {
      "text/markdown": [
       "CORRECT\n",
       "\n",
       "Expected result: \n",
       "\n",
       "|barname varchar|\n",
       "|---|\n",
       "|Joe's Brewery|\n",
       "|Legends|\n",
       "|Radio Maria|\n"
      ],
      "text/plain": [
       "<IPython.core.display.Markdown object>"
      ]
     },
     "metadata": {},
     "output_type": "display_data"
    }
   ],
   "source": [
    "%%sql 8\n",
    "\n",
    "SELECT barName\n",
    "FROM Sells\n",
    "WHERE beerName = 'Sam Adams' \n",
    "    and price < (SELECT AVG(price) \n",
    "                 FROM Sells \n",
    "                 WHERE beerName = 'Sam Adams')\n",
    "\n",
    "/* write your query here */"
   ]
  },
  {
   "cell_type": "markdown",
   "metadata": {},
   "source": [
    "<h2>Question 9:</h2><br>\n",
    "Find pairs of bars (Name1, Name2) that sell the same set of drinks. <br>\n",
    "\n",
    "<b>Note</b> - for each pair, we would like for Name1 > Name2, so that the same information does not appear twice."
   ]
  },
  {
   "cell_type": "code",
   "execution_count": 77,
   "metadata": {
    "scrolled": false
   },
   "outputs": [
    {
     "name": "stdout",
     "output_type": "stream",
     "text": [
      "Query output: \n"
     ]
    },
    {
     "data": {
      "text/markdown": [
       "|barname varchar|beername varchar|price numeric|discount numeric|barname varchar|beername varchar|price numeric|discount numeric|\n",
       "|---|---|---|---|---|---|---|---|\n",
       "|Brothers Bar & Grill|Bud Light|5.00|1|Blind Pig Co.|Bud Light|5.00|1|\n",
       "|Brothers Bar & Grill|Budweiser|6.00|1|Blind Pig Co.|Budweiser|7.00|1|\n",
       "|Brothers Bar & Grill|Sam Adams|7.50|1|Blind Pig Co.|Sam Adams|7.50|1|\n",
       "|The Clybourne|Coors Light|5.00|1|Murphy's Pub|Coors Light|6.00|1|\n",
       "|The Clybourne|Coors Light|5.00|1|Joe's Brewery|Coors Light|5.50|1|\n",
       "|The Clybourne|Coors Light|5.00|1|Blind Pig Co.|Coors Light|6.00|1|\n",
       "|The Clybourne|Corona|7.00|1|Kam's|Corona|8.00|1|\n",
       "|The Clybourne|Corona|7.00|1|Joe's Brewery|Corona|6.50|1|\n",
       "|The Clybourne|Corona|7.00|1|Blind Pig Co.|Corona|8.00|1|\n",
       "|The Clybourne|Keystone|9.00|1|Kam's|Keystone|7.50|1|\n",
       "|The Clybourne|Heineken|10.00|1|Murphy's Pub|Heineken|7.00|1|\n",
       "|The Clybourne|Heineken|10.00|1|Cowboy Monkey|Heineken|7.00|1|\n",
       "|Cowboy Monkey|Bud Light|5.00|1|Brothers Bar & Grill|Bud Light|5.00|1|\n",
       "|Cowboy Monkey|Bud Light|5.00|1|Blind Pig Co.|Bud Light|5.00|1|\n",
       "|Cowboy Monkey|Budweiser|5.50|1|Brothers Bar & Grill|Budweiser|6.00|1|\n",
       "|Cowboy Monkey|Budweiser|5.50|1|Blind Pig Co.|Budweiser|7.00|1|\n",
       "|Firehaus|Michelob|7.50|1|Brothers Bar & Grill|Michelob|7.00|1|\n",
       "|Firehaus|Budweiser|6.00|1|Cowboy Monkey|Budweiser|5.50|1|\n",
       "|Firehaus|Budweiser|6.00|1|Brothers Bar & Grill|Budweiser|6.00|1|\n",
       "|Firehaus|Budweiser|6.00|1|Blind Pig Co.|Budweiser|7.00|1|\n",
       "|Firehaus|Sam Adams|7.50|1|Brothers Bar & Grill|Sam Adams|7.50|1|\n",
       "|Firehaus|Sam Adams|7.50|1|Blind Pig Co.|Sam Adams|7.50|1|\n",
       "|Joe's Brewery|Bud Light|6.00|1|Cowboy Monkey|Bud Light|5.00|1|\n",
       "|Joe's Brewery|Bud Light|6.00|1|Brothers Bar & Grill|Bud Light|5.00|1|\n",
       "|Joe's Brewery|Bud Light|6.00|1|Blind Pig Co.|Bud Light|5.00|1|\n",
       "|Joe's Brewery|Budweiser|7.50|1|Firehaus|Budweiser|6.00|1|\n",
       "|Joe's Brewery|Budweiser|7.50|1|Cowboy Monkey|Budweiser|5.50|1|\n",
       "|Joe's Brewery|Budweiser|7.50|1|Brothers Bar & Grill|Budweiser|6.00|1|\n",
       "|Joe's Brewery|Budweiser|7.50|1|Blind Pig Co.|Budweiser|7.00|1|\n",
       "|Joe's Brewery|Sam Adams|5.00|0.50|Firehaus|Sam Adams|7.50|1|\n",
       "|Joe's Brewery|Sam Adams|5.00|0.50|Brothers Bar & Grill|Sam Adams|7.50|1|\n",
       "|Joe's Brewery|Sam Adams|5.00|0.50|Blind Pig Co.|Sam Adams|7.50|1|\n",
       "|Joe's Brewery|Coors Light|5.50|1|Blind Pig Co.|Coors Light|6.00|1|\n",
       "|Joe's Brewery|Corona|6.50|1|Blind Pig Co.|Corona|8.00|1|\n",
       "|Kam's|Bud Light|6.50|1|Joe's Brewery|Bud Light|6.00|1|\n",
       "|Kam's|Bud Light|6.50|1|Cowboy Monkey|Bud Light|5.00|1|\n",
       "|Kam's|Bud Light|6.50|1|Brothers Bar & Grill|Bud Light|5.00|1|\n",
       "|Kam's|Bud Light|6.50|1|Blind Pig Co.|Bud Light|5.00|1|\n",
       "|Kam's|Budweiser|7.00|1|Joe's Brewery|Budweiser|7.50|1|\n",
       "|Kam's|Budweiser|7.00|1|Firehaus|Budweiser|6.00|1|\n",
       "|Kam's|Budweiser|7.00|1|Cowboy Monkey|Budweiser|5.50|1|\n",
       "|Kam's|Budweiser|7.00|1|Brothers Bar & Grill|Budweiser|6.00|1|\n",
       "|Kam's|Budweiser|7.00|1|Blind Pig Co.|Budweiser|7.00|1|\n",
       "|Kam's|Corona|8.00|1|Joe's Brewery|Corona|6.50|1|\n",
       "|Kam's|Corona|8.00|1|Blind Pig Co.|Corona|8.00|1|\n",
       "|Legends|Blue Moon|7.50|1|Brothers Bar & Grill|Blue Moon|7.50|1|\n",
       "|Legends|Budweiser|5.00|1|Kam's|Budweiser|7.00|1|\n",
       "|Legends|Budweiser|5.00|1|Joe's Brewery|Budweiser|7.50|1|\n",
       "|Legends|Budweiser|5.00|1|Firehaus|Budweiser|6.00|1|\n",
       "|Legends|Budweiser|5.00|1|Cowboy Monkey|Budweiser|5.50|1|\n",
       "|Legends|Budweiser|5.00|1|Brothers Bar & Grill|Budweiser|6.00|1|\n",
       "|Legends|Budweiser|5.00|1|Blind Pig Co.|Budweiser|7.00|1|\n",
       "|Legends|Sam Adams|6.50|0.50|Joe's Brewery|Sam Adams|5.00|0.50|\n",
       "|Legends|Sam Adams|6.50|0.50|Firehaus|Sam Adams|7.50|1|\n",
       "|Legends|Sam Adams|6.50|0.50|Brothers Bar & Grill|Sam Adams|7.50|1|\n",
       "|Legends|Sam Adams|6.50|0.50|Blind Pig Co.|Sam Adams|7.50|1|\n",
       "|Murphy's Pub|Sam Adams|7.50|1|Legends|Sam Adams|6.50|0.50|\n",
       "|Murphy's Pub|Sam Adams|7.50|1|Joe's Brewery|Sam Adams|5.00|0.50|\n",
       "|Murphy's Pub|Sam Adams|7.50|1|Firehaus|Sam Adams|7.50|1|\n",
       "|Murphy's Pub|Sam Adams|7.50|1|Brothers Bar & Grill|Sam Adams|7.50|1|\n",
       "|Murphy's Pub|Sam Adams|7.50|1|Blind Pig Co.|Sam Adams|7.50|1|\n",
       "|Murphy's Pub|Coors Light|6.00|1|Joe's Brewery|Coors Light|5.50|1|\n",
       "|Murphy's Pub|Coors Light|6.00|1|Blind Pig Co.|Coors Light|6.00|1|\n",
       "|Murphy's Pub|Guinness Draught|8.00|1|Legends|Guinness Draught|8.00|1|\n",
       "|Murphy's Pub|Heineken|7.00|1|Cowboy Monkey|Heineken|7.00|1|\n",
       "|Murphy's Pub|Blue Moon|5.00|1|Legends|Blue Moon|7.50|1|\n",
       "|Murphy's Pub|Blue Moon|5.00|1|Brothers Bar & Grill|Blue Moon|7.50|1|\n",
       "|Radio Maria|Bud Light|5.00|1|Kam's|Bud Light|6.50|1|\n",
       "|Radio Maria|Bud Light|5.00|1|Joe's Brewery|Bud Light|6.00|1|\n",
       "|Radio Maria|Bud Light|5.00|1|Cowboy Monkey|Bud Light|5.00|1|\n",
       "|Radio Maria|Bud Light|5.00|1|Brothers Bar & Grill|Bud Light|5.00|1|\n",
       "|Radio Maria|Bud Light|5.00|1|Blind Pig Co.|Bud Light|5.00|1|\n",
       "|Radio Maria|Budweiser|6.00|1|Legends|Budweiser|5.00|1|\n",
       "|Radio Maria|Budweiser|6.00|1|Kam's|Budweiser|7.00|1|\n",
       "|Radio Maria|Budweiser|6.00|1|Joe's Brewery|Budweiser|7.50|1|\n",
       "|Radio Maria|Budweiser|6.00|1|Firehaus|Budweiser|6.00|1|\n",
       "|Radio Maria|Budweiser|6.00|1|Cowboy Monkey|Budweiser|5.50|1|\n",
       "|Radio Maria|Budweiser|6.00|1|Brothers Bar & Grill|Budweiser|6.00|1|\n",
       "|Radio Maria|Budweiser|6.00|1|Blind Pig Co.|Budweiser|7.00|1|\n",
       "|Radio Maria|Miller Lite|4.00|1|Murphy's Pub|Miller Lite|4.00|1|\n",
       "|Radio Maria|Sam Adams|7.00|1|Murphy's Pub|Sam Adams|7.50|1|\n",
       "|Radio Maria|Sam Adams|7.00|1|Legends|Sam Adams|6.50|0.50|\n",
       "|Radio Maria|Sam Adams|7.00|1|Joe's Brewery|Sam Adams|5.00|0.50|\n",
       "|Radio Maria|Sam Adams|7.00|1|Firehaus|Sam Adams|7.50|1|\n",
       "|Radio Maria|Sam Adams|7.00|1|Brothers Bar & Grill|Sam Adams|7.50|1|\n",
       "|Radio Maria|Sam Adams|7.00|1|Blind Pig Co.|Sam Adams|7.50|1|\n",
       "|The Red Lion|Sam Adams|7.50|1|Sipyard|Sam Adams|8.50|1|\n",
       "|The Red Lion|Sam Adams|7.50|1|Radio Maria|Sam Adams|7.00|1|\n",
       "|The Red Lion|Sam Adams|7.50|1|Murphy's Pub|Sam Adams|7.50|1|\n",
       "|The Red Lion|Sam Adams|7.50|1|Legends|Sam Adams|6.50|0.50|\n",
       "|The Red Lion|Sam Adams|7.50|1|Joe's Brewery|Sam Adams|5.00|0.50|\n",
       "|The Red Lion|Sam Adams|7.50|1|Firehaus|Sam Adams|7.50|1|\n",
       "|The Red Lion|Sam Adams|7.50|1|Brothers Bar & Grill|Sam Adams|7.50|1|\n",
       "|The Red Lion|Sam Adams|7.50|1|Blind Pig Co.|Sam Adams|7.50|1|\n",
       "|The Red Lion|Heineken|8.00|1|Murphy's Pub|Heineken|7.00|1|\n",
       "|The Red Lion|Heineken|8.00|1|Cowboy Monkey|Heineken|7.00|1|\n",
       "|The Red Lion|Heineken|8.00|1|The Clybourne|Heineken|10.00|1|\n",
       "|The Red Lion|Blue Moon|6.00|1|Sipyard|Blue Moon|9.50|1|\n",
       "|The Red Lion|Blue Moon|6.00|1|Murphy's Pub|Blue Moon|5.00|1|\n",
       "|The Red Lion|Blue Moon|6.00|1|Legends|Blue Moon|7.50|1|\n"
      ],
      "text/plain": [
       "<IPython.core.display.Markdown object>"
      ]
     },
     "metadata": {},
     "output_type": "display_data"
    },
    {
     "name": "stdout",
     "output_type": "stream",
     "text": [
      "Result: \n"
     ]
    },
    {
     "data": {
      "text/markdown": [
       "INCORRECT\n",
       "\n",
       "Expected result: \n",
       "\n",
       "|name varchar|name varchar|\n",
       "|---|---|\n",
       "|Joe's Brewery|Blind Pig Co.|\n",
       "|The Red Lion|Murphy's Pub|\n"
      ],
      "text/plain": [
       "<IPython.core.display.Markdown object>"
      ]
     },
     "metadata": {},
     "output_type": "display_data"
    }
   ],
   "source": [
    "%%sql 9\n",
    "\n",
    "SELECT *\n",
    "FROM Sells s1, Sells s2\n",
    "WHERE s1.barName != s2.barName and s1.beerName = s2.beerName and s1.barName > s2.barName\n",
    "/* write your query here */\n"
   ]
  },
  {
   "cell_type": "markdown",
   "metadata": {},
   "source": [
    "<h2>Question 10:</h2><br>\n",
    "Suppose we are interested in computing statistics about the ratings of people’s favorite beers. Obtain a list of all ratings for all beers that have been favorited by >= 3 different people. "
   ]
  },
  {
   "cell_type": "code",
   "execution_count": 78,
   "metadata": {
    "scrolled": true
   },
   "outputs": [
    {
     "name": "stdout",
     "output_type": "stream",
     "text": [
      "Query output: \n"
     ]
    },
    {
     "data": {
      "text/markdown": [
       "|rating int4|\n",
       "|---|\n",
       "|8|\n",
       "|8|\n",
       "|8|\n",
       "|7|\n",
       "|7|\n",
       "|7|\n",
       "|8|\n",
       "|8|\n",
       "|8|\n",
       "|7|\n",
       "|7|\n",
       "|7|\n",
       "|8|\n",
       "|8|\n",
       "|8|\n",
       "|3|\n",
       "|3|\n",
       "|3|\n",
       "|8|\n",
       "|8|\n",
       "|8|\n",
       "|8|\n",
       "|8|\n",
       "|8|\n",
       "|8|\n",
       "|8|\n",
       "|8|\n",
       "|9|\n",
       "|9|\n",
       "|9|\n",
       "|6|\n",
       "|6|\n",
       "|6|\n",
       "|7|\n",
       "|7|\n",
       "|7|\n",
       "|10|\n",
       "|10|\n",
       "|10|\n",
       "|5|\n",
       "|5|\n",
       "|5|\n",
       "|6|\n",
       "|6|\n",
       "|6|\n",
       "|7|\n",
       "|7|\n",
       "|7|\n"
      ],
      "text/plain": [
       "<IPython.core.display.Markdown object>"
      ]
     },
     "metadata": {},
     "output_type": "display_data"
    },
    {
     "name": "stdout",
     "output_type": "stream",
     "text": [
      "Result: \n"
     ]
    },
    {
     "data": {
      "text/markdown": [
       "CORRECT\n",
       "\n",
       "Expected result: \n",
       "\n",
       "|rating int4|\n",
       "|---|\n",
       "|8|\n",
       "|7|\n",
       "|8|\n",
       "|7|\n",
       "|8|\n",
       "|3|\n",
       "|8|\n",
       "|8|\n",
       "|8|\n",
       "|9|\n",
       "|6|\n",
       "|7|\n",
       "|10|\n",
       "|5|\n",
       "|6|\n",
       "|7|\n"
      ],
      "text/plain": [
       "<IPython.core.display.Markdown object>"
      ]
     },
     "metadata": {},
     "output_type": "display_data"
    }
   ],
   "source": [
    "%%sql 10\n",
    "\n",
    "SELECT Drinks.rating\n",
    "FROM Favorites, Drinks\n",
    "WHERE Favorites.beerName IN (SELECT Favorites.beerName\n",
    "                             FROM Favorites\n",
    "                             GROUP BY Favorites.beerName\n",
    "                             HAVING COUNT(*) >= 3)\n",
    "      and Favorites.beerName = Drinks.beerName\n",
    "/* write your query here */"
   ]
  },
  {
   "cell_type": "markdown",
   "metadata": {},
   "source": [
    "<h2>Question 11:</h2><br>\n",
    "Find the most expensive beer, along with its price, that is sold at each bar. <br>\n",
    "\n",
    "<b>Note</b> - the expected output format is (bar name, name of most expensive beer at that bar, price of most expensive beer) <br>\n",
    "\n",
    "<b>Note</b> - you can assume that there will be at most one row for each bar."
   ]
  },
  {
   "cell_type": "code",
   "execution_count": 79,
   "metadata": {
    "scrolled": false
   },
   "outputs": [
    {
     "name": "stdout",
     "output_type": "stream",
     "text": [
      "Query output: \n"
     ]
    },
    {
     "data": {
      "text/markdown": [
       "|n_barname varchar|beername varchar|m_price numeric|\n",
       "|---|---|---|\n",
       "|Blind Pig Co.|Corona|8.00|\n",
       "|Brothers Bar & Grill|Blue Ribbon|9.50|\n",
       "|The Clybourne|Heineken|10.00|\n",
       "|Cowboy Monkey|Lucid Absinthe|95.00|\n",
       "|Firehaus|Snake Venom|19.50|\n",
       "|Joe's Brewery|Budweiser|7.50|\n",
       "|Kam's|Corona|8.00|\n",
       "|Legends|Armageddon|49.50|\n",
       "|Murphy's Pub|Guinness Draught|8.00|\n",
       "|Radio Maria|Sam Adams|7.00|\n",
       "|The Red Lion|Guinness Draught|9.50|\n",
       "|Sipyard|Stella Artois|39.50|\n"
      ],
      "text/plain": [
       "<IPython.core.display.Markdown object>"
      ]
     },
     "metadata": {},
     "output_type": "display_data"
    },
    {
     "name": "stdout",
     "output_type": "stream",
     "text": [
      "Result: \n"
     ]
    },
    {
     "data": {
      "text/markdown": [
       "CORRECT\n",
       "\n",
       "Expected result: \n",
       "\n",
       "|barname varchar|beername varchar|price numeric|\n",
       "|---|---|---|\n",
       "|Blind Pig Co.|Corona|8.00|\n",
       "|Brothers Bar & Grill|Blue Ribbon|9.50|\n",
       "|The Clybourne|Heineken|10.00|\n",
       "|Cowboy Monkey|Lucid Absinthe|95.00|\n",
       "|Firehaus|Snake Venom|19.50|\n",
       "|Joe's Brewery|Budweiser|7.50|\n",
       "|Kam's|Corona|8.00|\n",
       "|Legends|Armageddon|49.50|\n",
       "|Murphy's Pub|Guinness Draught|8.00|\n",
       "|Radio Maria|Sam Adams|7.00|\n",
       "|The Red Lion|Guinness Draught|9.50|\n",
       "|Sipyard|Stella Artois|39.50|\n"
      ],
      "text/plain": [
       "<IPython.core.display.Markdown object>"
      ]
     },
     "metadata": {},
     "output_type": "display_data"
    }
   ],
   "source": [
    "%%sql 11\n",
    "\n",
    "\n",
    "SELECT a.n_barName, b.beerName, a.m_price\n",
    "FROM( SELECT barName AS n_barName, MAX(price) AS m_price\n",
    "      FROM Sells\n",
    "      GROUP BY barName) AS a\n",
    "RIGHT JOIN Sells b ON a.m_price = b.price and a.n_barName = b.barname\n",
    "WHERE a.n_barName IS NOT NULL\n",
    "\n",
    "/* write your query here */"
   ]
  },
  {
   "cell_type": "markdown",
   "metadata": {},
   "source": [
    "<h2>Question 12:</h2><br>\n",
    "Find the beer with the highest average rating among the beers with the lowest alcohol content. <br>\n",
    "\n",
    "<b>Note</b> - you may assume that the output will only contain one row."
   ]
  },
  {
   "cell_type": "code",
   "execution_count": 82,
   "metadata": {},
   "outputs": [
    {
     "name": "stdout",
     "output_type": "stream",
     "text": [
      "Query output: \n"
     ]
    },
    {
     "data": {
      "text/markdown": [
       "|beername varchar|\n",
       "|---|\n",
       "|Guinness Draught|\n"
      ],
      "text/plain": [
       "<IPython.core.display.Markdown object>"
      ]
     },
     "metadata": {},
     "output_type": "display_data"
    },
    {
     "name": "stdout",
     "output_type": "stream",
     "text": [
      "Result: \n"
     ]
    },
    {
     "data": {
      "text/markdown": [
       "CORRECT\n",
       "\n",
       "Expected result: \n",
       "\n",
       "|beername varchar|\n",
       "|---|\n",
       "|Guinness Draught|\n"
      ],
      "text/plain": [
       "<IPython.core.display.Markdown object>"
      ]
     },
     "metadata": {},
     "output_type": "display_data"
    }
   ],
   "source": [
    "%%sql 12\n",
    "SELECT final_avg.beerName\n",
    "FROM(SELECT AVG(avg_r.rating) AS avg_rb, avg_r.beerName\n",
    "    FROM(SELECT *\n",
    "        FROM(SELECT b.name, a.min_alc\n",
    "            FROM(SELECT MIN(alcohol) AS min_alc\n",
    "                FROM Beers) AS a\n",
    "            RIGHT JOIN Beers b ON a.min_alc = b.alcohol\n",
    "            WHERE a.min_alc IS NOT NULL) AS MINIMUM\n",
    "        RIGHT JOIN Drinks d ON MINIMUM.name = d.beerName\n",
    "        WHERE MINIMUM.name IS NOT NULL) AS avg_r\n",
    "    GROUP BY avg_r.beerName) as final_avg\n",
    "ORDER BY final_avg.avg_rb DESC LIMIT 1\n",
    "/* write your query here */"
   ]
  },
  {
   "cell_type": "code",
   "execution_count": null,
   "metadata": {},
   "outputs": [],
   "source": []
  }
 ],
 "metadata": {
  "kernelspec": {
   "display_name": "Python 3",
   "language": "python",
   "name": "python3"
  },
  "language_info": {
   "codemirror_mode": {
    "name": "ipython",
    "version": 3
   },
   "file_extension": ".py",
   "mimetype": "text/x-python",
   "name": "python",
   "nbconvert_exporter": "python",
   "pygments_lexer": "ipython3",
   "version": "3.6.2"
  }
 },
 "nbformat": 4,
 "nbformat_minor": 2
}
