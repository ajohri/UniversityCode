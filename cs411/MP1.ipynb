{
 "cells": [
  {
   "cell_type": "markdown",
   "metadata": {},
   "source": [
    "<h1>Instructions</h1>\n",
    "<ol>\n",
    "<li>Click the button \"Not Trusted\" on the menu bar of this notebook (at the top-right), and change the value to \"Trusted\". \n",
    "<li>Click Cell -> Run All. If you skip this step you might get the error \"Cell magic `%%ra` not found.\"\n",
    "<li>In the cell below each question, write an RA query for the question in the <a href=\"http://docs.mathjax.org/en/latest/tex.html\">MathJax</a> (which is LaTeX) syntax. \n",
    "<li>After you enter a query, press Shift + Enter to run the cell. \n",
    "<li>After execution, the system will output the query result and say \"CORRECT\" if the query works for the sample dataset. Otherwise, it will say \"INCORRECT\" and also display the expected result for your comparison.\n",
    "<li>Your submission will be tested over a dataset different from and larger than the sample. You will receive full credit for a question if the query returns correct results on the test dataset. \n",
    "</ol>\n",
    "\n",
    "<h2>Notes</h2>\n",
    "<ul>\n",
    "<li>Supported relational algebra operators:\n",
    "<ul>\n",
    "<li>Selection - <code>\\sigma\\_{cond}(Table)</code> \n",
    "<li>Projection - <code>\\pi\\_{attr1, attr2, ...}(Table)</code>\n",
    "<li>Theta-join - <code>Table1 \\bowtie\\_{cond} Table2</code>\n",
    "<li>Natural join - <code>Table1 \\bowtie Table2</code>\n",
    "<li>Cross product - <code>Table1 \\times Table2</code>\n",
    "<li>Union - <code>Table1 \\cup Table2</code>\n",
    "<li>Difference - <code>Table1 - Table2</code>\n",
    "<li>Intersection - <code>Table1 \\cap Table2</code>\n",
    "<li>Rename - <code>\\rho\\_{attr1, attr2, ...}(Table)</code>. The rename operator does not support renaming of tables, only renaming of attributes.\n",
    "</ul>\n",
    "<li>The <code>cond</code> statement can use the boolean operators <code>and, or, not</code>, <code>\\land, \\lor, \\lnot</code>, and the comparison operators <code><=, <, =, >, >=, <></code>, <code>\\leq, \\geq, \\neq</code>. \n",
    "<li>The cross product and theta-join operators do not allow the input relations to have attributes with the same name. It is generally a good idea to use <code>\\rho</code> before taking the cross product or theta-join of a relation with itself. \n",
    "<li>Do not modify the line with %%ra; without it, the cell contents will be treated as Python code. \n",
    "</ul>"
   ]
  },
  {
   "cell_type": "markdown",
   "metadata": {},
   "source": [
    "<h2>Example</h2>\n",
    "\n",
    "As an example, try to copy and paste the following RA expression into the input box for one of the questions, and then press Shift + Enter. "
   ]
  },
  {
   "cell_type": "raw",
   "metadata": {},
   "source": [
    "\\pi_{Name, Major}(Students)"
   ]
  },
  {
   "cell_type": "markdown",
   "metadata": {},
   "source": [
    "If the notebook is working properly, then you should see the LaTeX rendering $\\pi_{Name, Major}(Students)$, along with a table of the students in the database. If not, please contact the TA's and we will do our best to resolve the issue. "
   ]
  },
  {
   "cell_type": "markdown",
   "metadata": {},
   "source": [
    "<h1>Database Schema</h1>\n",
    "\n",
    "<div>\n",
    "<h3> Departments </h3>\n",
    "<table>\n",
    "<tr> <th> Attribute Name</th> <th>Type</th>\n",
    "<tr> <td><u>Department</u></td> <td> String </td>\n",
    "<tr> <td>NumberOfStudents</td> <td> Integer </td>\n",
    "<tr> <td>YearOfEstablishment</td> <td> Integer </td>\n",
    "</table>\n",
    "</div>\n",
    "\n",
    "<div>\n",
    "<h3> Professors </h3>\n",
    "<table>\n",
    "<tr> <th> Attribute Name</th> <th>Type</th>\n",
    "<tr> <td><u>ID</u></td> <td> String </td>\n",
    "<tr> <td>Name</td> <td> String </td>\n",
    "<tr> <td>Dept</td> <td> String </td>\n",
    "</table>\n",
    "</div>\n",
    "\n",
    "<div>\n",
    "<h3> Students </h3>\n",
    "<table>\n",
    "<tr> <th> Attribute Name</th> <th>Type</th>\n",
    "<tr> <td><u>ID</u></td> <td> String </td>\n",
    "<tr> <td>Name</td> <td> String </td>\n",
    "<tr> <td>Major</td> <td> String </td>\n",
    "<tr> <td>Birthday</td> <td> Date </td>\n",
    "<tr> <td>Advisor</td> <td> String </td>\n",
    "</table>\n",
    "</div>\n",
    "\n",
    "<div>\n",
    "<h3> Courses </h3>\n",
    "<table>\n",
    "<tr> <th> Attribute Name</th> <th>Type</th>\n",
    "<tr> <td><u>Number</u></td> <td> Integer </td>\n",
    "<tr> <td>Title</td> <td> String </td>\n",
    "<tr> <td>Credit</td> <td> Integer </td>\n",
    "<tr> <td>Instructor</td> <td> String </td>\n",
    "</table>\n",
    "</div>\n",
    "\n",
    "<div>\n",
    "<h3> Enrolls </h3>\n",
    "<table>\n",
    "<tr> <th> Attribute Name</th> <th>Type</th>\n",
    "<tr> <td><u>ID</u></td> <td> String </td>\n",
    "<tr> <td><u>Number</u></td> <td> Integer </td>\n",
    "<tr> <td>Term</td> <td> String </td>\n",
    "<tr> <td>Grade</td> <td> Float </td>\n",
    "</table>\n",
    "</div>\n"
   ]
  },
  {
   "cell_type": "code",
   "execution_count": 2,
   "metadata": {},
   "outputs": [
    {
     "data": {
      "text/html": [
       "\n",
       "<script>\n",
       "  function code_toggle() {\n",
       "    if (code_shown){\n",
       "      $('div.input:eq(0)').hide();\n",
       "    } else {\n",
       "      $('div.input:eq(0)').show();\n",
       "    }\n",
       "    code_shown = !code_shown;\n",
       "  }\n",
       "  \n",
       "  code_shown=true;\n",
       "  code_toggle();\n",
       "</script>\n"
      ]
     },
     "metadata": {},
     "output_type": "display_data"
    }
   ],
   "source": [
    "from IPython.core.magic import  (\n",
    "    Magics, magics_class, cell_magic, line_magic\n",
    ")\n",
    "from IPython.display import clear_output, display, Math, Markdown, Latex\n",
    "\n",
    "import IPython.core.display as dis\n",
    "import requests, json\n",
    "\n",
    "server_url = \"http://forward.cs.illinois.edu:8443\"\n",
    "\n",
    "def execQueryEval(query, query_id):\n",
    "    cmd = server_url + \"/get?hello=\" + query + \"&foo=\" + str(query_id)\n",
    "    cmd.encode(\"utf-8\")\n",
    "    r = requests.get(cmd)\n",
    "    return r.text\n",
    "\n",
    "def execQueryResult(query):\n",
    "    cmd = server_url + \"/query?hello=\" + query\n",
    "    cmd.encode(\"utf-8\")\n",
    "    r = requests.get(cmd)\n",
    "    return r.text\n",
    "\n",
    "def execActualQuery(query_id):\n",
    "    cmd = server_url + \"/actual?foo=\" + str(query_id)\n",
    "    cmd.encode(\"utf-8\")\n",
    "    r = requests.get(cmd)\n",
    "    return r.text\n",
    "\n",
    "def parseResult(text):\n",
    "    markdown = \"\"\n",
    "    lines = text.splitlines()\n",
    "    if len(lines) < 3:\n",
    "        return\n",
    "    header = lines[0]\n",
    "    desc, _, schema = header.partition(\":\")\n",
    "    if desc != \"Output schema\":\n",
    "        return\n",
    "    schema_list = schema.strip().strip(\"()\").split(\", \")\n",
    "    markdown += \"|\" + \"|\".join(schema_list) + \"|\" + \"\\n\"\n",
    "    if not lines[1].startswith(\"---\"):\n",
    "        return\n",
    "    markdown += \"|\" + \"|\".join([\"---\"] * len(schema_list)) + \"|\" + \"\\n\"\n",
    "    for line in lines[2:]:\n",
    "        if line.startswith(\"---\"):\n",
    "            break\n",
    "        markdown += \"|\" + line + \"|\" + \"\\n\"\n",
    "    return markdown\n",
    "\n",
    "def displayAsMarkdown(text):\n",
    "    markdown = parseResult(text)\n",
    "    if markdown is not None:\n",
    "        display(Markdown(markdown))\n",
    "    else:\n",
    "        print(text)\n",
    "\n",
    "# latex-to-RA symbol replacements\n",
    "replacement = [ (r\"\\sigma\"    , r\"\\select\"),\n",
    "                (r\"\\pi\"       , r\"\\project\"),\n",
    "                (r\"\\bowtie\"   , r\"\\join\"),\n",
    "                (r\"\\times\"    , r\"\\cross\"),\n",
    "                (r\"\\cup\"      , r\"\\union\"),\n",
    "                (r\"\\cap\"      , r\"\\intersect\"),\n",
    "                (r\"\\setminus\" , r\"\\diff\"),\n",
    "                (r\"-\"         , r\"\\diff\"),\n",
    "                (r\"\\rho\"      , r\"\\rename\"),\n",
    "                (r\"==\"        , r\"=\"),\n",
    "                (r\"\\nless\"    , r\">=\"),\n",
    "                (r\"\\leq\"      , r\"<=\"),\n",
    "                (r\"\\leqslant\" , r\"<=\"),\n",
    "                (r\"\\nleq\"     , r\">\"),\n",
    "                (r\"\\nleqslant\", r\">\"),\n",
    "                (r\"\\ngtr\"     , r\"<=\"),\n",
    "                (r\"\\geq\"      , r\">=\"),\n",
    "                (r\"\\geqslant\" , r\">=\"),\n",
    "                (r\"\\ngeq\"     , r\"<\"),\n",
    "                (r\"\\ngeqslant\", r\"<\"),\n",
    "                (r\"\\neq\"      , r\"<>\"), \n",
    "                (r\"\\ne\"       , r\"<>\"), \n",
    "                (r\"\\land\"     , r\" AND \"),\n",
    "                (r\"\\wedge\"    , r\" AND \"),\n",
    "                (r\"&&\"        , r\" AND \"),\n",
    "                (r\"&\"         , r\" AND \"),\n",
    "                (r\"\\lor\"      , r\" OR \"),\n",
    "                (r\"||\"        , r\" OR \"),\n",
    "                (r\"|\"         , r\" OR \"),\n",
    "                (r\"\\neg\"      , r\" NOT \"),\n",
    "                (r\"\\_\"        , r\"_\"),\n",
    "                (r\"\\\\\"        , r\" \"),\n",
    "                (r\"\\quad\"     , r\" \"),\n",
    "                (r\"\\qquad\"    , r\" \"),\n",
    "                (r\"\\,\"        , r\" \"),\n",
    "                (r\"\\:\"        , r\" \"),\n",
    "                (r\"\\;\"        , r\" \"),\n",
    "                (r\"\\!\"        , r\" \"),\n",
    "                (r\"\\ \"        , r\" \"),\n",
    "                (r\"  \"        , r\" \"),\n",
    "              ]\n",
    "\n",
    "@magics_class\n",
    "class RA(Magics):\n",
    "\n",
    "    @cell_magic\n",
    "    def ra(self, params, cell):\n",
    "        clear_output()\n",
    "        display(Math(cell))\n",
    "        print(\"\\n\")\n",
    "        \n",
    "        # remove comments\n",
    "        query = \"\"\n",
    "        for line in cell.splitlines():\n",
    "            if not line.startswith(\"%\"):\n",
    "                query = query + line + \"\\n\"\n",
    "        query = query.strip()\n",
    "        \n",
    "        # add semicolon if it does not already exist\n",
    "        if not query.endswith(';'):\n",
    "            query = query + ';'\n",
    "            \n",
    "        # replace latex special symbols w/ equivalent RA expression\n",
    "        for key, val in replacement:\n",
    "            for pattern in (key.lower(), key.upper(), key.title()):\n",
    "                for _ in range(1000):\n",
    "                    if pattern not in query:\n",
    "                        break\n",
    "                    query = query.replace(pattern, val, 1)\n",
    "            \n",
    "        return self.ra_no_latex(params, query)\n",
    "       \n",
    "    @cell_magic\n",
    "    def ra_no_latex(self, params, cell):\n",
    "        # get the question number\n",
    "        n = -1\n",
    "        if len(params.strip()) > 0:\n",
    "            try:\n",
    "                n = int(params.strip()) - 1\n",
    "            except Exception:\n",
    "                pass\n",
    "        if n == -1:\n",
    "            print(\"Expected question number after '%%ra '\")\n",
    "            return\n",
    "        \n",
    "        # evaluate the query\n",
    "        if len(cell.strip()) > 1:\n",
    "            print (\"Query Result\")\n",
    "            displayAsMarkdown(execQueryResult(cell))\n",
    "            result = execQueryEval(cell, n)\n",
    "            print (result)\n",
    "            if result != \"CORRECT\":\n",
    "                print (\"Expected Result\")\n",
    "                displayAsMarkdown(execActualQuery(n))\n",
    "\n",
    "## use ipython load_ext mechanism here if distributed\n",
    "get_ipython().register_magics(RA)\n",
    "\n",
    "# hide this code cell\n",
    "html = \"\"\"\n",
    "<script>\n",
    "  function code_toggle() {\n",
    "    if (code_shown){\n",
    "      $('div.input:eq(0)').hide();\n",
    "    } else {\n",
    "      $('div.input:eq(0)').show();\n",
    "    }\n",
    "    code_shown = !code_shown;\n",
    "  }\n",
    "  \n",
    "  code_shown=true;\n",
    "  code_toggle();\n",
    "</script>\n",
    "\"\"\"\n",
    "dis.display_html(html, raw=True)"
   ]
  },
  {
   "cell_type": "markdown",
   "metadata": {},
   "source": [
    "<h2>Question 1:</h2><br>\n",
    "Find the name of all professors in the CS department. <br>\n",
    "\n",
    "<b>Note</b> - we are looking for the department named \"CS\", not \"Crop Sciences\", although both are in the database. "
   ]
  },
  {
   "cell_type": "code",
   "execution_count": 3,
   "metadata": {
    "scrolled": true
   },
   "outputs": [
    {
     "data": {
      "text/latex": [
       "$$\n",
       "\\pi_{Name}\\sigma_{Dept=\"CS\"}(Professors) $$"
      ],
      "text/plain": [
       "<IPython.core.display.Math object>"
      ]
     },
     "metadata": {},
     "output_type": "display_data"
    },
    {
     "name": "stdout",
     "output_type": "stream",
     "text": [
      "\n",
      "\n",
      "Query Result\n",
      "<h1>404 Not Found</h1>No context found for request\n",
      "<html><body>hello : null<br/>foo : null<br/></body></html>\n",
      "Expected Result\n",
      "<h1>404 Not Found</h1>No context found for request\n"
     ]
    }
   ],
   "source": [
    "%%ra 1\n",
    "\n",
    "\\pi_{Name}\\sigma_{Dept=\"CS\"}(Professors) "
   ]
  },
  {
   "cell_type": "markdown",
   "metadata": {},
   "source": [
    "<h2>Question 2:</h2><br>\n",
    "Find the name of all students enrolled in the course titled \"Database Systems\"."
   ]
  },
  {
   "cell_type": "code",
   "execution_count": 4,
   "metadata": {
    "scrolled": true
   },
   "outputs": [
    {
     "data": {
      "text/latex": [
       "$$\n",
       "\\pi_{Name}\\sigma_{Title = \"Database Systems\"}(Students \\bowtie (Courses \\bowtie Enrolls))$$"
      ],
      "text/plain": [
       "<IPython.core.display.Math object>"
      ]
     },
     "metadata": {},
     "output_type": "display_data"
    },
    {
     "name": "stdout",
     "output_type": "stream",
     "text": [
      "\n",
      "\n",
      "Query Result\n",
      "<h1>404 Not Found</h1>No context found for request\n",
      "<html><body>hello : null<br/>foo : null<br/></body></html>\n",
      "Expected Result\n",
      "<h1>404 Not Found</h1>No context found for request\n"
     ]
    }
   ],
   "source": [
    "%%ra 2\n",
    "\n",
    "\\pi_{Name}\\sigma_{Title = \"Database Systems\"}(Students \\bowtie (Courses \\bowtie Enrolls))"
   ]
  },
  {
   "cell_type": "markdown",
   "metadata": {},
   "source": [
    "<h2>Question 3:</h2><br>\n",
    "Find the name and the size (in terms of recorded number of students) of all departments with less than 100 or greater than 1000 students.\n",
    "\n",
    "<b>Note</b> - the ordering of attributes should be the same as the ordering in the question. <br>\n"
   ]
  },
  {
   "cell_type": "code",
   "execution_count": 5,
   "metadata": {},
   "outputs": [
    {
     "data": {
      "text/latex": [
       "$$\n",
       "\\pi_{Department, NumberOfStudents}\\sigma_{NumberOfStudents < 100 or NumberOfStudents > 1000}(Departments)$$"
      ],
      "text/plain": [
       "<IPython.core.display.Math object>"
      ]
     },
     "metadata": {},
     "output_type": "display_data"
    },
    {
     "name": "stdout",
     "output_type": "stream",
     "text": [
      "\n",
      "\n",
      "Query Result\n",
      "<h1>404 Not Found</h1>No context found for request\n",
      "<html><body>hello : null<br/>foo : null<br/></body></html>\n",
      "Expected Result\n",
      "<h1>404 Not Found</h1>No context found for request\n"
     ]
    }
   ],
   "source": [
    "%%ra 3\n",
    "\n",
    "\\pi_{Department, NumberOfStudents}\\sigma_{NumberOfStudents < 100 or NumberOfStudents > 1000}(Departments)"
   ]
  },
  {
   "cell_type": "markdown",
   "metadata": {},
   "source": [
    "<h2>Question 4:</h2><br>\n",
    "Find the ID of all students taking \"Database Systems\" and a 4-credit hour course. "
   ]
  },
  {
   "cell_type": "code",
   "execution_count": 6,
   "metadata": {
    "scrolled": true
   },
   "outputs": [
    {
     "data": {
      "text/latex": [
       "$$\n",
       "\\pi_{ID}(\\sigma_{Title = \"Database Systems\"}(Enrolls \\bowtie Courses)) \n",
       "\\cap \n",
       "\\pi_{ID}(\\sigma_{Credit = 4}(Enrolls \\bowtie Courses))$$"
      ],
      "text/plain": [
       "<IPython.core.display.Math object>"
      ]
     },
     "metadata": {},
     "output_type": "display_data"
    },
    {
     "name": "stdout",
     "output_type": "stream",
     "text": [
      "\n",
      "\n",
      "Query Result\n",
      "<h1>404 Not Found</h1>No context found for request\n",
      "<html><body>hello : null<br/>foo : null<br/></body></html>\n",
      "Expected Result\n",
      "<h1>404 Not Found</h1>No context found for request\n"
     ]
    }
   ],
   "source": [
    "%%ra 4\n",
    "\n",
    "\\pi_{ID}(\\sigma_{Title = \"Database Systems\"}(Enrolls \\bowtie Courses)) \n",
    "\\cap \n",
    "\\pi_{ID}(\\sigma_{Credit = 4}(Enrolls \\bowtie Courses))"
   ]
  },
  {
   "cell_type": "markdown",
   "metadata": {},
   "source": [
    "<h2>Question 5:</h2><br>\n",
    "Find the title of courses that Professor \"K. Chang\" is teaching other than CS 411, \"Database Systems\"."
   ]
  },
  {
   "cell_type": "code",
   "execution_count": 7,
   "metadata": {
    "scrolled": false
   },
   "outputs": [
    {
     "data": {
      "text/latex": [
       "$$\n",
       "\\pi_{Title}\\sigma_{Title != \"Database Systems\" and Instructor = \"chang\"}(Courses)$$"
      ],
      "text/plain": [
       "<IPython.core.display.Math object>"
      ]
     },
     "metadata": {},
     "output_type": "display_data"
    },
    {
     "name": "stdout",
     "output_type": "stream",
     "text": [
      "\n",
      "\n",
      "Query Result\n",
      "<h1>404 Not Found</h1>No context found for request\n",
      "<html><body>hello : null<br/>foo : null<br/></body></html>\n",
      "Expected Result\n",
      "<h1>404 Not Found</h1>No context found for request\n"
     ]
    }
   ],
   "source": [
    "%%ra 5\n",
    "\n",
    "\\pi_{Title}\\sigma_{Title != \"Database Systems\" and Instructor = \"chang\"}(Courses)"
   ]
  },
  {
   "cell_type": "markdown",
   "metadata": {},
   "source": [
    "<h2>Question 6:</h2><br>\n",
    "Find the ID of students taking courses taught by their advisor. "
   ]
  },
  {
   "cell_type": "code",
   "execution_count": 8,
   "metadata": {
    "scrolled": false
   },
   "outputs": [
    {
     "data": {
      "text/latex": [
       "$$\n",
       "\\pi_{ID}\\sigma_{Instructor == Advisor}(((Courses) \\bowtie (Enrolls)) \\bowtie (Students))$$"
      ],
      "text/plain": [
       "<IPython.core.display.Math object>"
      ]
     },
     "metadata": {},
     "output_type": "display_data"
    },
    {
     "name": "stdout",
     "output_type": "stream",
     "text": [
      "\n",
      "\n",
      "Query Result\n",
      "<h1>404 Not Found</h1>No context found for request\n",
      "<html><body>hello : null<br/>foo : null<br/></body></html>\n",
      "Expected Result\n",
      "<h1>404 Not Found</h1>No context found for request\n"
     ]
    }
   ],
   "source": [
    "%%ra 6\n",
    "\n",
    "\\pi_{ID}\\sigma_{Instructor == Advisor}(((Courses) \\bowtie (Enrolls)) \\bowtie (Students))"
   ]
  },
  {
   "cell_type": "markdown",
   "metadata": {},
   "source": [
    "<h2>Question 7:</h2><br>\n",
    "Find pairs of students (ID1, ID2) who have the same major but who have never taken the same course in any term. \n",
    "\n",
    "<b>Note</b> - For each output pair, it is expected that ID1 > ID2. This way, no two pairs will contain the same information. "
   ]
  },
  {
   "cell_type": "code",
   "execution_count": 9,
   "metadata": {
    "scrolled": true
   },
   "outputs": [
    {
     "data": {
      "text/latex": [
       "$$\n",
       "\\pi_{ID1, ID}(\\sigma_{Major == MAJOR1 and Name != NAME1 and ADVISOR1 == \"\"}(Students \\times \\rho_{ID1, NAME1, MAJOR1, BDAY1, ADVISOR1}Students)) $$"
      ],
      "text/plain": [
       "<IPython.core.display.Math object>"
      ]
     },
     "metadata": {},
     "output_type": "display_data"
    },
    {
     "name": "stdout",
     "output_type": "stream",
     "text": [
      "\n",
      "\n",
      "Query Result\n",
      "<h1>404 Not Found</h1>No context found for request\n",
      "<html><body>hello : null<br/>foo : null<br/></body></html>\n",
      "Expected Result\n",
      "<h1>404 Not Found</h1>No context found for request\n"
     ]
    }
   ],
   "source": [
    "%%ra 7\n",
    "\n",
    "\\pi_{ID1, ID}(\\sigma_{Major == MAJOR1 and Name != NAME1 and ADVISOR1 == \"\"}(Students \\times \\rho_{ID1, NAME1, MAJOR1, BDAY1, ADVISOR1}Students)) "
   ]
  },
  {
   "cell_type": "markdown",
   "metadata": {},
   "source": [
    "<h2>Question 8:</h2><br>\n",
    "Find the ID of students who only take courses in the same department as their major. \n",
    "\n",
    "<b>Note</b> - you may assume that the name of majors is the same as the name of the department that the major comes from. You may also assume that the department that a course belongs to is the same as the department of the Professor teaching the course. "
   ]
  },
  {
   "cell_type": "code",
   "execution_count": 10,
   "metadata": {
    "scrolled": false
   },
   "outputs": [
    {
     "data": {
      "text/latex": [
       "$$%% Students who are taking classes in their department\n",
       "\\pi_{ID}\\sigma_{Major = Dept}\n",
       "(Students \\times \\rho_{enrollID, Number, Term, Grade, ProfID, ProfName, Dept, CourseNumber, Title, Credit, Instructor}\n",
       "(Enrolls \\times \\rho_{ProfID, Name, Dept, CourseNumber, Title, Credit, Instructor}(Professors \\times Courses)))\n",
       "-\n",
       "%% Students who are taking classes that are not in their department\n",
       "\\pi_{ID}\\sigma_{Major != Dept and ProfID = Instructor and Number = CourseNumber and ID = enrollID}\n",
       "(Students \\times \\rho_{enrollID, Number, Term, Grade, ProfID, ProfName, Dept, CourseNumber, Title, Credit, Instructor}\n",
       "(Enrolls \\times \\rho_{ProfID, Name, Dept, CourseNumber, Title, Credit, Instructor}(Professors \\times Courses)))$$"
      ],
      "text/plain": [
       "<IPython.core.display.Math object>"
      ]
     },
     "metadata": {},
     "output_type": "display_data"
    },
    {
     "name": "stdout",
     "output_type": "stream",
     "text": [
      "\n",
      "\n",
      "Query Result\n",
      "<h1>404 Not Found</h1>No context found for request\n",
      "<html><body>hello : null<br/>foo : null<br/></body></html>\n",
      "Expected Result\n",
      "<h1>404 Not Found</h1>No context found for request\n"
     ]
    }
   ],
   "source": [
    "%%ra 8\n",
    "%% Students who are taking classes in their department\n",
    "\\pi_{ID}\\sigma_{Major = Dept}\n",
    "(Students \\times \\rho_{enrollID, Number, Term, Grade, ProfID, ProfName, Dept, CourseNumber, Title, Credit, Instructor}\n",
    "(Enrolls \\times \\rho_{ProfID, Name, Dept, CourseNumber, Title, Credit, Instructor}(Professors \\times Courses)))\n",
    "-\n",
    "%% Students who are taking classes that are not in their department\n",
    "\\pi_{ID}\\sigma_{Major != Dept and ProfID = Instructor and Number = CourseNumber and ID = enrollID}\n",
    "(Students \\times \\rho_{enrollID, Number, Term, Grade, ProfID, ProfName, Dept, CourseNumber, Title, Credit, Instructor}\n",
    "(Enrolls \\times \\rho_{ProfID, Name, Dept, CourseNumber, Title, Credit, Instructor}(Professors \\times Courses)))"
   ]
  },
  {
   "cell_type": "markdown",
   "metadata": {},
   "source": [
    "<h2>Question 9:</h2><br>\n",
    "Find the oldest department. <br>\n",
    "\n",
    "<b>Note</b> - you may assume that YearOfEstablishment is distinct for all departments."
   ]
  },
  {
   "cell_type": "code",
   "execution_count": 11,
   "metadata": {
    "scrolled": false
   },
   "outputs": [
    {
     "data": {
      "text/latex": [
       "$$\n",
       "\\pi_{Department}\\sigma_{YearOfEstablishment = 1867}(Departments)$$"
      ],
      "text/plain": [
       "<IPython.core.display.Math object>"
      ]
     },
     "metadata": {},
     "output_type": "display_data"
    },
    {
     "name": "stdout",
     "output_type": "stream",
     "text": [
      "\n",
      "\n",
      "Query Result\n",
      "<h1>404 Not Found</h1>No context found for request\n",
      "<html><body>hello : null<br/>foo : null<br/></body></html>\n",
      "Expected Result\n",
      "<h1>404 Not Found</h1>No context found for request\n"
     ]
    }
   ],
   "source": [
    "%%ra 9\n",
    "\n",
    "\\pi_{Department}\\sigma_{YearOfEstablishment = 1867}(Departments)"
   ]
  },
  {
   "cell_type": "markdown",
   "metadata": {},
   "source": [
    "<h2>Question 10:</h2><br>\n",
    "Find the ID of the student with the highest grade in the course \"Database Systems\", for the \"Fall 2017\" term. "
   ]
  },
  {
   "cell_type": "code",
   "execution_count": 12,
   "metadata": {
    "scrolled": true
   },
   "outputs": [
    {
     "data": {
      "text/latex": [
       "$$\n",
       "\\pi_{ID}\\sigma_{Grade == 100 and Term = \"Fall 2017\"}(Students \\bowtie (Courses \\bowtie Enrolls))$$"
      ],
      "text/plain": [
       "<IPython.core.display.Math object>"
      ]
     },
     "metadata": {},
     "output_type": "display_data"
    },
    {
     "name": "stdout",
     "output_type": "stream",
     "text": [
      "\n",
      "\n",
      "Query Result\n",
      "<h1>404 Not Found</h1>No context found for request\n",
      "<html><body>hello : null<br/>foo : null<br/></body></html>\n",
      "Expected Result\n",
      "<h1>404 Not Found</h1>No context found for request\n"
     ]
    }
   ],
   "source": [
    "%%ra 10\n",
    "\n",
    "\\pi_{ID}\\sigma_{Grade == 100 and Term = \"Fall 2017\"}(Students \\bowtie (Courses \\bowtie Enrolls))"
   ]
  },
  {
   "cell_type": "markdown",
   "metadata": {},
   "source": [
    "<h2>Question 11:</h2><br>\n",
    "Find the ID of the instructors that teach 2 or more courses. "
   ]
  },
  {
   "cell_type": "code",
   "execution_count": 16,
   "metadata": {
    "scrolled": false
   },
   "outputs": [
    {
     "data": {
      "text/latex": [
       "$$\n",
       "\\pi_{Instructor}(\\sigma_{Title != T1 and Instructor == I1}(Courses \\times \\rho_{N1, T1, C1, I1}Courses))$$"
      ],
      "text/plain": [
       "<IPython.core.display.Math object>"
      ]
     },
     "metadata": {},
     "output_type": "display_data"
    },
    {
     "name": "stdout",
     "output_type": "stream",
     "text": [
      "\n",
      "\n",
      "Query Result\n",
      "<h1>404 Not Found</h1>No context found for request\n",
      "<html><body>hello : null<br/>foo : null<br/></body></html>\n",
      "Expected Result\n",
      "<h1>404 Not Found</h1>No context found for request\n"
     ]
    }
   ],
   "source": [
    "%%ra 11\n",
    "\n",
    "\\pi_{Instructor}(\\sigma_{Title != T1 and Instructor == I1}(Courses \\times \\rho_{N1, T1, C1, I1}Courses))"
   ]
  },
  {
   "cell_type": "markdown",
   "metadata": {},
   "source": [
    "<h2>Question 12:</h2><br>\n",
    "Find the ID of the instructors that teach exactly 2 courses. "
   ]
  },
  {
   "cell_type": "code",
   "execution_count": 14,
   "metadata": {
    "scrolled": true
   },
   "outputs": [
    {
     "data": {
      "text/latex": [
       "$$%%Instructors that taught more than 2 classes\n",
       "\\pi_{Instructor}(\\sigma_{Instructor = I1 and Instructor = I2 and T1!=T2}\n",
       "                (Courses \\times \\rho_{N1, T1, C1, I1, N2, T2, C2, I2}(Courses \\times \\rho_{N1, T1, C1, I1}Courses)))\n",
       "-\n",
       "%%Instructors that have taught more than 3 classes\n",
       "\\pi_{Instructor}(\\sigma_{Instructor = I1 and Instructor = I2 and T1!=T2 and (Title != T1 and Title != T2)}\n",
       "                (Courses \\times \\rho_{N1, T1, C1, I1, N2, T2, C2, I2}(Courses \\times \\rho_{N1, T1, C1, I1}Courses)))$$"
      ],
      "text/plain": [
       "<IPython.core.display.Math object>"
      ]
     },
     "metadata": {},
     "output_type": "display_data"
    },
    {
     "name": "stdout",
     "output_type": "stream",
     "text": [
      "\n",
      "\n",
      "Query Result\n",
      "<h1>404 Not Found</h1>No context found for request\n",
      "<html><body>hello : null<br/>foo : null<br/></body></html>\n",
      "Expected Result\n",
      "<h1>404 Not Found</h1>No context found for request\n"
     ]
    }
   ],
   "source": [
    "%%ra 12\n",
    "%%Instructors that taught more than 2 classes\n",
    "\\pi_{Instructor}(\\sigma_{Instructor = I1 and Instructor = I2 and T1!=T2}\n",
    "                (Courses \\times \\rho_{N1, T1, C1, I1, N2, T2, C2, I2}(Courses \\times \\rho_{N1, T1, C1, I1}Courses)))\n",
    "-\n",
    "%%Instructors that have taught more than 3 classes\n",
    "\\pi_{Instructor}(\\sigma_{Instructor = I1 and Instructor = I2 and T1!=T2 and (Title != T1 and Title != T2)}\n",
    "                (Courses \\times \\rho_{N1, T1, C1, I1, N2, T2, C2, I2}(Courses \\times \\rho_{N1, T1, C1, I1}Courses)))"
   ]
  },
  {
   "cell_type": "code",
   "execution_count": null,
   "metadata": {},
   "outputs": [],
   "source": []
  }
 ],
 "metadata": {
  "kernelspec": {
   "display_name": "Python 3",
   "language": "python",
   "name": "python3"
  },
  "language_info": {
   "codemirror_mode": {
    "name": "ipython",
    "version": 3
   },
   "file_extension": ".py",
   "mimetype": "text/x-python",
   "name": "python",
   "nbconvert_exporter": "python",
   "pygments_lexer": "ipython3",
   "version": "3.6.2"
  }
 },
 "nbformat": 4,
 "nbformat_minor": 2
}
